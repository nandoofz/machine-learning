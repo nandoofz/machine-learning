{
 "cells": [
  {
   "cell_type": "code",
   "execution_count": 1,
   "metadata": {
    "collapsed": false
   },
   "outputs": [],
   "source": [
    "%matplotlib inline\n",
    "import matplotlib.pyplot as plt\n",
    "import pandas as pd\n",
    "import numpy as np\n",
    "import ast\n",
    "import itertools as it\n",
    "import warnings\n",
    "from sklearn import decomposition\n",
    "from sklearn.preprocessing import MaxAbsScaler\n",
    "\n",
    "warnings.filterwarnings('ignore')"
   ]
  },
  {
   "cell_type": "code",
   "execution_count": 2,
   "metadata": {
    "collapsed": true
   },
   "outputs": [],
   "source": [
    "df_train = pd.read_csv('train.csv', converters={'keydown': ast.literal_eval, 'keyup': ast.literal_eval})\n",
    "df_test = pd.read_csv('test.csv', converters={'keydown': ast.literal_eval, 'keyup': ast.literal_eval})"
   ]
  },
  {
   "cell_type": "code",
   "execution_count": 3,
   "metadata": {
    "collapsed": false
   },
   "outputs": [],
   "source": [
    "_df_train = df_train.copy()\n",
    "_df_test = df_test.copy()"
   ]
  },
  {
   "cell_type": "code",
   "execution_count": 4,
   "metadata": {
    "collapsed": false
   },
   "outputs": [],
   "source": [
    "df_train = _df_train.copy()\n",
    "df_test = _df_test.copy()"
   ]
  },
  {
   "cell_type": "code",
   "execution_count": 182,
   "metadata": {
    "collapsed": false
   },
   "outputs": [
    {
     "data": {
      "text/html": [
       "<div>\n",
       "<table border=\"1\" class=\"dataframe\">\n",
       "  <thead>\n",
       "    <tr style=\"text-align: right;\">\n",
       "      <th></th>\n",
       "      <th>id</th>\n",
       "      <th>target</th>\n",
       "      <th>keydown</th>\n",
       "      <th>keyup</th>\n",
       "    </tr>\n",
       "  </thead>\n",
       "  <tbody>\n",
       "    <tr>\n",
       "      <th>0</th>\n",
       "      <td>1</td>\n",
       "      <td>1</td>\n",
       "      <td>[{'tick': 0, 'code': 107}, {'tick': 36, 'code'...</td>\n",
       "      <td>[{'tick': 21, 'code': 107}, {'tick': 57, 'code...</td>\n",
       "    </tr>\n",
       "    <tr>\n",
       "      <th>1</th>\n",
       "      <td>2</td>\n",
       "      <td>1</td>\n",
       "      <td>[{'tick': 0, 'code': 112}, {'tick': 1536, 'cod...</td>\n",
       "      <td>[{'tick': 673, 'code': 112}, {'tick': 2208, 'c...</td>\n",
       "    </tr>\n",
       "    <tr>\n",
       "      <th>2</th>\n",
       "      <td>3</td>\n",
       "      <td>1</td>\n",
       "      <td>[{'tick': 0, 'code': 57}, {'tick': 1587, 'code...</td>\n",
       "      <td>[{'tick': 588, 'code': 57}, {'tick': 2182, 'co...</td>\n",
       "    </tr>\n",
       "    <tr>\n",
       "      <th>3</th>\n",
       "      <td>4</td>\n",
       "      <td>1</td>\n",
       "      <td>[{'tick': 0, 'code': 50}, {'tick': 941, 'code'...</td>\n",
       "      <td>[{'tick': 710, 'code': 50}, {'tick': 1654, 'co...</td>\n",
       "    </tr>\n",
       "    <tr>\n",
       "      <th>4</th>\n",
       "      <td>5</td>\n",
       "      <td>1</td>\n",
       "      <td>[{'tick': 0, 'code': 111}, {'tick': 1337, 'cod...</td>\n",
       "      <td>[{'tick': 500, 'code': 111}, {'tick': 1831, 'c...</td>\n",
       "    </tr>\n",
       "  </tbody>\n",
       "</table>\n",
       "</div>"
      ],
      "text/plain": [
       "   id  target                                            keydown  \\\n",
       "0   1       1  [{'tick': 0, 'code': 107}, {'tick': 36, 'code'...   \n",
       "1   2       1  [{'tick': 0, 'code': 112}, {'tick': 1536, 'cod...   \n",
       "2   3       1  [{'tick': 0, 'code': 57}, {'tick': 1587, 'code...   \n",
       "3   4       1  [{'tick': 0, 'code': 50}, {'tick': 941, 'code'...   \n",
       "4   5       1  [{'tick': 0, 'code': 111}, {'tick': 1337, 'cod...   \n",
       "\n",
       "                                               keyup  \n",
       "0  [{'tick': 21, 'code': 107}, {'tick': 57, 'code...  \n",
       "1  [{'tick': 673, 'code': 112}, {'tick': 2208, 'c...  \n",
       "2  [{'tick': 588, 'code': 57}, {'tick': 2182, 'co...  \n",
       "3  [{'tick': 710, 'code': 50}, {'tick': 1654, 'co...  \n",
       "4  [{'tick': 500, 'code': 111}, {'tick': 1831, 'c...  "
      ]
     },
     "execution_count": 182,
     "metadata": {},
     "output_type": "execute_result"
    }
   ],
   "source": [
    "df_train.head()"
   ]
  },
  {
   "cell_type": "code",
   "execution_count": 5,
   "metadata": {
    "collapsed": false
   },
   "outputs": [],
   "source": [
    "def diff(df):\n",
    "    kd_ticks = df.keydown.apply(lambda keys: [key['tick'] for key in keys])\n",
    "    ku_ticks = df.keyup.apply(lambda keys: [key['tick'] for key in keys])\n",
    "    \n",
    "    kd_ticks_diff = kd_ticks.apply(np.diff)\n",
    "    ku_ticks_diff = ku_ticks.apply(np.diff)\n",
    "    \n",
    "    ku_ticks_diff[ku_ticks_diff.str.len() == 0] =\\\n",
    "        ku_ticks_diff[ku_ticks_diff.str.len() == 0].apply(lambda empty: [-1])\n",
    "    \n",
    "    df['keyDownDiffMax'] = kd_ticks_diff.apply(max)\n",
    "    df['keyDownDiffMin'] = kd_ticks_diff.apply(min)\n",
    "    df['keyDownDiffSum'] = kd_ticks_diff.apply(np.sum)\n",
    "    df['keyDownDiffMedian'] = kd_ticks_diff.apply(np.median)\n",
    "    df['keyDownDiffMean'] = kd_ticks_diff.apply(np.mean)\n",
    "    df['keyDownDiffDeviation'] = kd_ticks_diff.apply(np.std)\n",
    "    df['keyDownDiffVariance'] = kd_ticks_diff.apply(np.var)\n",
    "    \n",
    "    df['keyUpDiffMax'] = ku_ticks_diff.apply(max)\n",
    "    df['keyUpDiffMin'] = ku_ticks_diff.apply(min)\n",
    "    df['keyUpDiffSum'] = ku_ticks_diff.apply(np.sum)\n",
    "    df['keyUpDiffMedian'] = ku_ticks_diff.apply(np.median)\n",
    "    df['keyUpDiffMean'] = ku_ticks_diff.apply(np.mean)\n",
    "    df['keyUpDiffDeviation'] = ku_ticks_diff.apply(np.std)\n",
    "    df['keyUpDiffVariance'] = ku_ticks_diff.apply(np.var)\n",
    "    \n",
    "diff(df_train)\n",
    "diff(df_test)"
   ]
  },
  {
   "cell_type": "code",
   "execution_count": 6,
   "metadata": {
    "collapsed": false
   },
   "outputs": [],
   "source": [
    "def matchKeyPairs(df):\n",
    "    keyPairsItems = []\n",
    "    kdTicks = []\n",
    "    kuTicks = []\n",
    "    i = 0\n",
    "    for kds, kus in it.zip_longest(df['keydown'], df['keyup']):\n",
    "        pairs = []\n",
    "        kd_ticks = []\n",
    "        ku_ticks = []\n",
    "        #Mais keydowns do que keyups\n",
    "        if len(kds) > len(kus):\n",
    "            for kd, ku in it.zip_longest(kds, kus, fillvalue=-1):\n",
    "                kd_ticks.append(kd['tick'])\n",
    "                if ku != -1:\n",
    "                    pairs.append([kd['tick'], ku['tick']])\n",
    "                    ku_ticks.append(ku['tick'])\n",
    "                else:\n",
    "                    pairs.append([kd['tick'], -1])\n",
    "                    ku_ticks.append(-1)\n",
    "        if len(kds) == len(kus):\n",
    "            for kd, ku in it.zip_longest(kds, kus):\n",
    "                #if kd['code'] != ku['code']:\n",
    "                #else:\n",
    "                pairs.append([kd['tick'], ku['tick']])\n",
    "                kd_ticks.append(kd['tick'])\n",
    "                ku_ticks.append(ku['tick'])\n",
    "        if len(kds) < len(kus):\n",
    "            for kd, ku in it.zip_longest(kds, kus, fillvalue=-1):\n",
    "                ku_ticks.append(ku['tick'])\n",
    "                if kd != -1:\n",
    "                    pairs.append([kd['tick'], ku['tick']])\n",
    "                    kd_ticks.append(kd['tick'])\n",
    "                else:\n",
    "                    pairs.append([-1, ku['tick']])\n",
    "                    kd_ticks.append(-1)\n",
    "\n",
    "        keyPairsItems.insert(i, pairs)\n",
    "        kdTicks.insert(i, kd_ticks)\n",
    "        kuTicks.insert(i, ku_ticks)\n",
    "        i += 1\n",
    "    \n",
    "    result = {}\n",
    "    result['keyPairsItems'] = keyPairsItems\n",
    "    result['kdTicks'] = kdTicks\n",
    "    result['kuTicks'] = kuTicks\n",
    "    \n",
    "    return result\n",
    "\n",
    "resultTrain = matchKeyPairs(df_train)\n",
    "resultTest = matchKeyPairs(df_test)\n",
    "\n",
    "train_keypairs = resultTrain['keyPairsItems']\n",
    "train_kdTicks = resultTrain['kdTicks']\n",
    "train_kuTicks = resultTrain['kuTicks']\n",
    "\n",
    "test_keypairs = resultTest['keyPairsItems']\n",
    "test_kdTicks = resultTest['kdTicks']\n",
    "test_kuTicks = resultTest['kuTicks']"
   ]
  },
  {
   "cell_type": "code",
   "execution_count": 7,
   "metadata": {
    "collapsed": false
   },
   "outputs": [],
   "source": [
    "def firstFeatures(df, kd_ticks, ku_ticks):\n",
    "    keyDownTotalSum = []\n",
    "    keyDownTotalMedian = []\n",
    "    keyDownTotalMean = []\n",
    "    keyDownTotalDeviation = []\n",
    "    keyDownTotalVariance = []\n",
    "\n",
    "    keyUpTotalSum = []\n",
    "    keyUpTotalMedian = []\n",
    "    keyUpTotalMean = []\n",
    "    keyUpTotalDeviation = []\n",
    "    keyUpTotalVariance = []\n",
    "    \n",
    "    for i in range(len(df)):\n",
    "        keyDownTicks = kd_ticks[i]\n",
    "        keyUpTicks = ku_ticks[i]\n",
    "        \n",
    "        # Calcula os keydowns\n",
    "        keyDownTotalSum.append(np.sum(keyDownTicks))\n",
    "        keyDownTotalMedian.append(np.median(keyDownTicks))\n",
    "        keyDownTotalMean.append(np.mean(keyDownTicks))\n",
    "        keyDownTotalDeviation.append(np.std(keyDownTicks))\n",
    "        keyDownTotalVariance.append(np.var(keyDownTicks))\n",
    "        \n",
    "        # Calcula os keyups\n",
    "        keyUpTotalSum.append(np.sum(keyUpTicks))\n",
    "        keyUpTotalMedian.append(np.median(keyUpTicks))\n",
    "        keyUpTotalMean.append(np.mean(keyUpTicks))\n",
    "        keyUpTotalDeviation.append(np.std(keyUpTicks))\n",
    "        keyUpTotalVariance.append(np.var(keyUpTicks))\n",
    "    \n",
    "    df['keyDownTotalSum'] = keyDownTotalSum\n",
    "    df['keyDownTotalMedian'] = keyDownTotalMedian\n",
    "    df['keyDownTotalMean'] = keyDownTotalMean\n",
    "    df['keyDownTotalDeviation'] = keyDownTotalDeviation\n",
    "    df['keyDownTotalVariance'] = keyDownTotalVariance\n",
    "\n",
    "    df['keyUpTotalSum'] = keyUpTotalSum\n",
    "    df['keyUpTotalMedian'] = keyUpTotalMedian\n",
    "    df['keyUpTotalMean'] = keyUpTotalMean\n",
    "    df['keyUpTotalDeviation'] = keyUpTotalDeviation\n",
    "    df['keyUpTotalVariance'] = keyUpTotalVariance\n",
    "\n",
    "firstFeatures(df_train, train_kdTicks, train_kuTicks)\n",
    "firstFeatures(df_test, test_kdTicks, test_kuTicks)"
   ]
  },
  {
   "cell_type": "code",
   "execution_count": 8,
   "metadata": {
    "collapsed": false
   },
   "outputs": [],
   "source": [
    "def prepareFeatures(df, keyPairsItems):\n",
    "    intervalMax = []\n",
    "    intervalMin = []\n",
    "    intervalSum = []\n",
    "    intervalMedian = []\n",
    "    intervalMean = []\n",
    "    intervalDeviation = []\n",
    "    intervalVariance = []\n",
    "    \n",
    "    pressedMax = []\n",
    "    pressedMin = []\n",
    "    pressedSum = []\n",
    "    pressedMedian = []\n",
    "    pressedMean = []\n",
    "    pressedDeviation = []\n",
    "    pressedVariance = []\n",
    "    \n",
    "    for keyPairs in keyPairsItems:\n",
    "        intervals = []\n",
    "        pressed = []\n",
    "        for i in range(len(keyPairs)):\n",
    "            # Calcula os intervalos\n",
    "            if i+1 < len(keyPairs):\n",
    "                if keyPairs[i][1] == -1 or keyPairs[i+1][0] == -1:\n",
    "                    intervals.append(-99999)\n",
    "                else:\n",
    "                    intervals.append(keyPairs[i+1][0] - keyPairs[i][1])\n",
    "            # Calcula os pressionamentos\n",
    "            if keyPairs[i][1] == -1 or keyPairs[i][0] == -1:\n",
    "                pressed.append(-99999)\n",
    "            else:\n",
    "                pressed.append(keyPairs[i][1] - keyPairs[i][0])\n",
    "        \n",
    "        intervalMax.append(max(intervals))\n",
    "        intervalMin.append(min(intervals))\n",
    "        intervalSum.append(np.sum(intervals))\n",
    "        intervalMedian.append(np.median(intervals))\n",
    "        intervalMean.append(np.mean(intervals))\n",
    "        intervalDeviation.append(np.std(intervals))\n",
    "        intervalVariance.append(np.var(intervals))\n",
    "        \n",
    "        pressedMax.append(max(pressed))\n",
    "        pressedMin.append(min(pressed))\n",
    "        pressedSum.append(np.sum(pressed))\n",
    "        pressedMedian.append(np.median(pressed))\n",
    "        pressedMean.append(np.mean(pressed))\n",
    "        pressedDeviation.append(np.std(pressed))\n",
    "        pressedVariance.append(np.var(pressed))\n",
    "\n",
    "    df['intervalMax'] = intervalMax\n",
    "    df['intervalMin'] = intervalMin\n",
    "    df['intervalSum'] = intervalSum\n",
    "    df['intervalMedian'] = intervalMedian\n",
    "    df['intervalMean'] = intervalMean\n",
    "    df['intervalDeviation'] = intervalDeviation\n",
    "    df['intervalVariance'] = intervalVariance\n",
    "    \n",
    "    df['pressedMax'] = pressedMax\n",
    "    df['pressedMin'] = pressedMin\n",
    "    df['pressedSum'] = pressedSum\n",
    "    df['pressedMedian'] = pressedMedian\n",
    "    df['pressedMean'] = pressedMean\n",
    "    df['pressedDeviation'] = pressedDeviation\n",
    "    df['pressedVariance'] = pressedVariance\n",
    "    \n",
    "    df.fillna(0, inplace=True)\n",
    "    df.drop(['id', 'keydown', 'keyup'], axis=1, inplace=True, errors='ignore')\n",
    "    \n",
    "    for column in df.columns:\n",
    "        if df[column].dtype == np.float64:\n",
    "            df[column] = df[column].round(1)\n",
    "\n",
    "\n",
    "prepareFeatures(df_train, train_keypairs)\n",
    "prepareFeatures(df_test, test_keypairs)\n",
    "\n",
    "#df_train_ = df_train.copy()\n",
    "#df_train_.drop(['target'], axis=1, inplace=True, errors='ignore')\n",
    "\n",
    "#df_full = pd.concat([df_train_,df_test])\n",
    "#df_full.fillna(0, inplace=True)\n",
    "\n",
    "#maxAbsScaler = MaxAbsScaler()\n",
    "#full_scaled = maxAbsScaler.fit_transform(df_full)\n",
    "#train_scaled = maxAbsScaler.transform(df_train_)\n",
    "#test_scaled = maxAbsScaler.transform(df_test)\n",
    "\n",
    "#pca_ = decomposition.PCA(n_components=2)\n",
    "#full_pca = pca_.fit(full_scaled)\n",
    "#train_pca = pca_.transform(train_scaled)\n",
    "#test_pca = pca_.transform(test_scaled)\n",
    "\n",
    "#df_train['pca_x'] = train_pca[:,0]\n",
    "#df_train['pca_y'] = train_pca[:,1]\n",
    "\n",
    "#df_test['pca_x'] = test_pca[:,0]\n",
    "#df_test['pca_y'] = test_pca[:,1]"
   ]
  },
  {
   "cell_type": "code",
   "execution_count": 187,
   "metadata": {
    "collapsed": false
   },
   "outputs": [
    {
     "data": {
      "text/html": [
       "<div>\n",
       "<table border=\"1\" class=\"dataframe\">\n",
       "  <thead>\n",
       "    <tr style=\"text-align: right;\">\n",
       "      <th></th>\n",
       "      <th>target</th>\n",
       "      <th>keyDownDiffMax</th>\n",
       "      <th>keyDownDiffMin</th>\n",
       "      <th>keyDownDiffSum</th>\n",
       "      <th>keyDownDiffMedian</th>\n",
       "      <th>keyDownDiffMean</th>\n",
       "      <th>keyDownDiffDeviation</th>\n",
       "      <th>keyDownDiffVariance</th>\n",
       "      <th>keyUpDiffMax</th>\n",
       "      <th>keyUpDiffMin</th>\n",
       "      <th>...</th>\n",
       "      <th>intervalMean</th>\n",
       "      <th>intervalDeviation</th>\n",
       "      <th>intervalVariance</th>\n",
       "      <th>pressedMax</th>\n",
       "      <th>pressedMin</th>\n",
       "      <th>pressedSum</th>\n",
       "      <th>pressedMedian</th>\n",
       "      <th>pressedMean</th>\n",
       "      <th>pressedDeviation</th>\n",
       "      <th>pressedVariance</th>\n",
       "    </tr>\n",
       "  </thead>\n",
       "  <tbody>\n",
       "    <tr>\n",
       "      <th>0</th>\n",
       "      <td>1</td>\n",
       "      <td>51</td>\n",
       "      <td>29</td>\n",
       "      <td>726</td>\n",
       "      <td>41.0</td>\n",
       "      <td>40.3</td>\n",
       "      <td>5.4</td>\n",
       "      <td>28.9</td>\n",
       "      <td>51</td>\n",
       "      <td>28</td>\n",
       "      <td>...</td>\n",
       "      <td>19.8</td>\n",
       "      <td>3.7</td>\n",
       "      <td>14.1</td>\n",
       "      <td>27</td>\n",
       "      <td>12</td>\n",
       "      <td>395</td>\n",
       "      <td>21.0</td>\n",
       "      <td>20.8</td>\n",
       "      <td>4.6</td>\n",
       "      <td>20.9</td>\n",
       "    </tr>\n",
       "    <tr>\n",
       "      <th>1</th>\n",
       "      <td>1</td>\n",
       "      <td>1536</td>\n",
       "      <td>1513</td>\n",
       "      <td>28892</td>\n",
       "      <td>1521.0</td>\n",
       "      <td>1520.6</td>\n",
       "      <td>6.0</td>\n",
       "      <td>36.4</td>\n",
       "      <td>1538</td>\n",
       "      <td>1512</td>\n",
       "      <td>...</td>\n",
       "      <td>853.3</td>\n",
       "      <td>5.1</td>\n",
       "      <td>25.9</td>\n",
       "      <td>675</td>\n",
       "      <td>660</td>\n",
       "      <td>13342</td>\n",
       "      <td>666.0</td>\n",
       "      <td>667.1</td>\n",
       "      <td>4.3</td>\n",
       "      <td>18.8</td>\n",
       "    </tr>\n",
       "    <tr>\n",
       "      <th>2</th>\n",
       "      <td>1</td>\n",
       "      <td>1613</td>\n",
       "      <td>1587</td>\n",
       "      <td>30416</td>\n",
       "      <td>1599.0</td>\n",
       "      <td>1600.8</td>\n",
       "      <td>7.2</td>\n",
       "      <td>51.7</td>\n",
       "      <td>1615</td>\n",
       "      <td>1590</td>\n",
       "      <td>...</td>\n",
       "      <td>1005.7</td>\n",
       "      <td>3.9</td>\n",
       "      <td>15.4</td>\n",
       "      <td>603</td>\n",
       "      <td>588</td>\n",
       "      <td>11911</td>\n",
       "      <td>596.0</td>\n",
       "      <td>595.6</td>\n",
       "      <td>5.5</td>\n",
       "      <td>30.6</td>\n",
       "    </tr>\n",
       "    <tr>\n",
       "      <th>3</th>\n",
       "      <td>1</td>\n",
       "      <td>950</td>\n",
       "      <td>931</td>\n",
       "      <td>17930</td>\n",
       "      <td>944.0</td>\n",
       "      <td>943.7</td>\n",
       "      <td>4.0</td>\n",
       "      <td>15.9</td>\n",
       "      <td>956</td>\n",
       "      <td>932</td>\n",
       "      <td>...</td>\n",
       "      <td>228.9</td>\n",
       "      <td>4.1</td>\n",
       "      <td>17.1</td>\n",
       "      <td>723</td>\n",
       "      <td>708</td>\n",
       "      <td>14294</td>\n",
       "      <td>713.0</td>\n",
       "      <td>714.7</td>\n",
       "      <td>4.8</td>\n",
       "      <td>22.8</td>\n",
       "    </tr>\n",
       "    <tr>\n",
       "      <th>4</th>\n",
       "      <td>1</td>\n",
       "      <td>1351</td>\n",
       "      <td>1323</td>\n",
       "      <td>25402</td>\n",
       "      <td>1337.0</td>\n",
       "      <td>1336.9</td>\n",
       "      <td>6.8</td>\n",
       "      <td>46.0</td>\n",
       "      <td>1348</td>\n",
       "      <td>1323</td>\n",
       "      <td>...</td>\n",
       "      <td>843.0</td>\n",
       "      <td>4.1</td>\n",
       "      <td>16.6</td>\n",
       "      <td>500</td>\n",
       "      <td>486</td>\n",
       "      <td>9874</td>\n",
       "      <td>494.0</td>\n",
       "      <td>493.7</td>\n",
       "      <td>5.2</td>\n",
       "      <td>27.5</td>\n",
       "    </tr>\n",
       "  </tbody>\n",
       "</table>\n",
       "<p>5 rows × 39 columns</p>\n",
       "</div>"
      ],
      "text/plain": [
       "   target  keyDownDiffMax  keyDownDiffMin  keyDownDiffSum  keyDownDiffMedian  \\\n",
       "0       1              51              29             726               41.0   \n",
       "1       1            1536            1513           28892             1521.0   \n",
       "2       1            1613            1587           30416             1599.0   \n",
       "3       1             950             931           17930              944.0   \n",
       "4       1            1351            1323           25402             1337.0   \n",
       "\n",
       "   keyDownDiffMean  keyDownDiffDeviation  keyDownDiffVariance  keyUpDiffMax  \\\n",
       "0             40.3                   5.4                 28.9            51   \n",
       "1           1520.6                   6.0                 36.4          1538   \n",
       "2           1600.8                   7.2                 51.7          1615   \n",
       "3            943.7                   4.0                 15.9           956   \n",
       "4           1336.9                   6.8                 46.0          1348   \n",
       "\n",
       "   keyUpDiffMin       ...         intervalMean  intervalDeviation  \\\n",
       "0            28       ...                 19.8                3.7   \n",
       "1          1512       ...                853.3                5.1   \n",
       "2          1590       ...               1005.7                3.9   \n",
       "3           932       ...                228.9                4.1   \n",
       "4          1323       ...                843.0                4.1   \n",
       "\n",
       "   intervalVariance  pressedMax  pressedMin  pressedSum  pressedMedian  \\\n",
       "0              14.1          27          12         395           21.0   \n",
       "1              25.9         675         660       13342          666.0   \n",
       "2              15.4         603         588       11911          596.0   \n",
       "3              17.1         723         708       14294          713.0   \n",
       "4              16.6         500         486        9874          494.0   \n",
       "\n",
       "   pressedMean  pressedDeviation  pressedVariance  \n",
       "0         20.8               4.6             20.9  \n",
       "1        667.1               4.3             18.8  \n",
       "2        595.6               5.5             30.6  \n",
       "3        714.7               4.8             22.8  \n",
       "4        493.7               5.2             27.5  \n",
       "\n",
       "[5 rows x 39 columns]"
      ]
     },
     "execution_count": 187,
     "metadata": {},
     "output_type": "execute_result"
    }
   ],
   "source": [
    "df_train.head()"
   ]
  },
  {
   "cell_type": "code",
   "execution_count": 9,
   "metadata": {
    "collapsed": false
   },
   "outputs": [],
   "source": [
    "features = df_train.columns.difference(['target'])\n",
    "\n",
    "X = df_train[features].values\n",
    "y = df_train['target'].values"
   ]
  },
  {
   "cell_type": "code",
   "execution_count": 10,
   "metadata": {
    "collapsed": false
   },
   "outputs": [
    {
     "data": {
      "text/plain": [
       "[<matplotlib.lines.Line2D at 0x1ca59d9d780>]"
      ]
     },
     "execution_count": 10,
     "metadata": {},
     "output_type": "execute_result"
    },
    {
     "data": {
      "image/png": "[encoded data removed]",
      "text/plain": [
       "<matplotlib.figure.Figure at 0x1ca59d9d860>"
      ]
     },
     "metadata": {},
     "output_type": "display_data"
    }
   ],
   "source": [
    "X_scaled = MaxAbsScaler().fit_transform(X)\n",
    "\n",
    "pca = decomposition.PCA(n_components=2)\n",
    "data = pca.fit_transform(X_scaled)\n",
    "\n",
    "data0 = data[df_train[df_train['target'] == 0].index.values]\n",
    "data1 = data[df_train[df_train['target'] == 1].index.values]\n",
    "\n",
    "plt.plot(data1[:,0], data1[:,1], '^', color='r', alpha=0.1)\n",
    "plt.plot(data0[:,0], data0[:,1], 'o', color='g', alpha=0.9)"
   ]
  },
  {
   "cell_type": "code",
   "execution_count": 11,
   "metadata": {
    "collapsed": false
   },
   "outputs": [
    {
     "data": {
      "text/plain": [
       "0.95316095091549147"
      ]
     },
     "execution_count": 11,
     "metadata": {},
     "output_type": "execute_result"
    }
   ],
   "source": [
    "pca.explained_variance_ratio_.sum()"
   ]
  },
  {
   "cell_type": "code",
   "execution_count": 197,
   "metadata": {
    "collapsed": false
   },
   "outputs": [
    {
     "data": {
      "text/plain": [
       "(array([-0.00568371, -0.00325932, -0.00417627, -0.00412606, -0.00401464,\n",
       "        -0.00478227, -0.00332531, -0.00653292, -0.00735375, -0.00547072]),\n",
       " -0.0048724980404414083)"
      ]
     },
     "execution_count": 197,
     "metadata": {},
     "output_type": "execute_result"
    }
   ],
   "source": [
    "from sklearn.ensemble import RandomForestClassifier, AdaBoostClassifier\n",
    "from sklearn.cross_validation import cross_val_score\n",
    "from sklearn.cross_validation import StratifiedKFold\n",
    "\n",
    "cv = StratifiedKFold(y, n_folds=10, shuffle=True, random_state=1000)\n",
    "classifier = RandomForestClassifier(random_state=1000, bootstrap=False, criterion='entropy', n_estimators=349, max_depth=13)\n",
    "#classifier = AdaBoostClassifier(classifier)\n",
    "\n",
    "scores = cross_val_score(classifier, X, y, scoring='log_loss', cv=cv, n_jobs=-1)\n",
    "\n",
    "scores, np.mean(scores)"
   ]
  },
  {
   "cell_type": "code",
   "execution_count": 15,
   "metadata": {
    "collapsed": false
   },
   "outputs": [
    {
     "data": {
      "text/plain": [
       "(array([-0.0049319 , -0.0016525 , -0.0012557 , -0.00287973, -0.00608419,\n",
       "        -0.00341171, -0.00298283, -0.00652859, -0.00616833, -0.00261709]),\n",
       " -0.0038512561247881993)"
      ]
     },
     "execution_count": 15,
     "metadata": {},
     "output_type": "execute_result"
    }
   ],
   "source": [
    "import xgboost as xgb\n",
    "from sklearn.cross_validation import cross_val_score\n",
    "from sklearn.cross_validation import StratifiedKFold\n",
    "\n",
    "cv = StratifiedKFold(y, n_folds=10, shuffle=True, random_state=1000)\n",
    "classifier2 = xgb.XGBClassifier(seed=980, n_estimators=383, max_depth=3, min_child_weight=1, subsample=0.95, colsample_bytree=0.45, gamma=0.1)\n",
    "scores2 = cross_val_score(classifier2, X, y, scoring='log_loss', cv=cv, n_jobs=-1)\n",
    "scores2, np.mean(scores2)"
   ]
  },
  {
   "cell_type": "code",
   "execution_count": 14,
   "metadata": {
    "collapsed": false
   },
   "outputs": [
    {
     "name": "stdout",
     "output_type": "stream",
     "text": [
      "Fitting 10 folds for each of 499 candidates, totalling 4990 fits\n"
     ]
    },
    {
     "name": "stderr",
     "output_type": "stream",
     "text": [
      "[Parallel(n_jobs=1)]: Done  49 tasks       | elapsed:  7.2min\n",
      "[Parallel(n_jobs=1)]: Done 199 tasks       | elapsed: 25.8min\n",
      "[Parallel(n_jobs=1)]: Done 449 tasks       | elapsed: 56.3min\n",
      "[Parallel(n_jobs=1)]: Done 799 tasks       | elapsed: 99.1min\n",
      "[Parallel(n_jobs=1)]: Done 1249 tasks       | elapsed: 154.0min\n",
      "[Parallel(n_jobs=1)]: Done 1799 tasks       | elapsed: 221.2min\n",
      "[Parallel(n_jobs=1)]: Done 2449 tasks       | elapsed: 300.4min\n",
      "[Parallel(n_jobs=1)]: Done 3199 tasks       | elapsed: 391.9min\n",
      "[Parallel(n_jobs=1)]: Done 4049 tasks       | elapsed: 495.4min\n",
      "[Parallel(n_jobs=1)]: Done 4990 out of 4990 | elapsed: 609.7min finished\n"
     ]
    },
    {
     "data": {
      "text/plain": [
       "({'colsample_bytree': 0.45,\n",
       "  'gamma': 0.1,\n",
       "  'max_depth': 3,\n",
       "  'min_child_weight': 1,\n",
       "  'n_estimators': 383,\n",
       "  'seed': 1021,\n",
       "  'subsample': 0.95},\n",
       " -0.0040021603580654456)"
      ]
     },
     "execution_count": 14,
     "metadata": {},
     "output_type": "execute_result"
    }
   ],
   "source": [
    "from sklearn.grid_search import GridSearchCV\n",
    "\n",
    "param_grid = {\n",
    "            'max_depth':[3],\n",
    "            'min_child_weight':[1],\n",
    "            'subsample':[0.95],\n",
    "            'colsample_bytree':[0.45],\n",
    "            'gamma':[0.1],\n",
    "#            'n_estimators':[i for i in range(300,400,2)]\n",
    "            'n_estimators':[383],\n",
    "            'seed':[i for i in range(1001,1500,1)]\n",
    "}\n",
    "\n",
    "gs_classifier = GridSearchCV(classifier2, param_grid, cv=cv, scoring=\"log_loss\", verbose=1)\n",
    "gs_classifier.fit(X, y)\n",
    "\n",
    "classifier = gs_classifier.best_estimator_ \n",
    "\n",
    "gs_classifier.best_params_, gs_classifier.best_score_"
   ]
  },
  {
   "cell_type": "code",
   "execution_count": 16,
   "metadata": {
    "collapsed": false
   },
   "outputs": [
    {
     "data": {
      "text/plain": [
       "XGBClassifier(base_score=0.5, colsample_bylevel=1, colsample_bytree=0.45,\n",
       "       gamma=0.1, learning_rate=0.1, max_delta_step=0, max_depth=3,\n",
       "       min_child_weight=1, missing=None, n_estimators=383, nthread=-1,\n",
       "       objective='binary:logistic', reg_alpha=0, reg_lambda=1,\n",
       "       scale_pos_weight=1, seed=980, silent=True, subsample=0.95)"
      ]
     },
     "execution_count": 16,
     "metadata": {},
     "output_type": "execute_result"
    }
   ],
   "source": [
    "classifier2.fit(X, y)"
   ]
  },
  {
   "cell_type": "code",
   "execution_count": 17,
   "metadata": {
    "collapsed": true
   },
   "outputs": [],
   "source": [
    "y_pred = classifier.predict_proba(df_test[features])[:,1]\n",
    "submission = pd.read_csv('submission_sample.csv')\n",
    "submission['target'] = y_pred\n",
    "submission.to_csv('result.csv', index=False)"
   ]
  },
  {
   "cell_type": "code",
   "execution_count": 19,
   "metadata": {
    "collapsed": false
   },
   "outputs": [
    {
     "data": {
      "text/plain": [
       "(0, array([], dtype=int64))"
      ]
     },
     "execution_count": 19,
     "metadata": {},
     "output_type": "execute_result"
    }
   ],
   "source": [
    "y_pred = classifier2.predict(X)\n",
    "df_error = df_train[y_pred != y]\n",
    "len(df_error), df_error.index.values[0:5]"
   ]
  },
  {
   "cell_type": "code",
   "execution_count": 20,
   "metadata": {
    "collapsed": false
   },
   "outputs": [
    {
     "data": {
      "text/plain": [
       "[<matplotlib.lines.Line2D at 0x1ca72356a90>]"
      ]
     },
     "execution_count": 20,
     "metadata": {},
     "output_type": "execute_result"
    },
    {
     "data": {
      "image/png": "[encoded data removed]",
      "text/plain": [
       "<matplotlib.figure.Figure at 0x1ca722a1f60>"
      ]
     },
     "metadata": {},
     "output_type": "display_data"
    }
   ],
   "source": [
    "plt.plot(data0[:,0], data0[:,1], 'o', color='g', alpha=0.5)\n",
    "plt.plot(data1[:,0], data1[:,1], 'o', color='r', alpha=0.1)\n",
    "\n",
    "data3 = data[df_error.index.values]\n",
    "plt.plot(data3[:,0], data3[:,1], 'o', color='y', alpha=0.9)"
   ]
  },
  {
   "cell_type": "code",
   "execution_count": 202,
   "metadata": {
    "collapsed": false
   },
   "outputs": [
    {
     "name": "stdout",
     "output_type": "stream",
     "text": [
      "Feature ranking:\n",
      "   pressedDeviation: 18.790535%\n",
      "   pressedVariance: 15.715027%\n",
      "   intervalVariance: 7.198869%\n",
      "   intervalMin: 6.115571%\n",
      "   intervalDeviation: 5.933404%\n",
      "   keyUpDiffDeviation: 4.006701%\n",
      "   keyDownDiffDeviation: 3.713563%\n",
      "   keyUpDiffVariance: 3.668655%\n",
      "   keyUpDiffMedian: 3.307350%\n",
      "   keyDownDiffVariance: 3.147914%\n",
      "   keyDownDiffMedian: 2.384565%\n",
      "   pressedMean: 2.381884%\n",
      "   pressedMax: 2.264307%\n",
      "   intervalMedian: 2.187590%\n",
      "   pressedMedian: 2.176083%\n",
      "   keyDownTotalMedian: 1.990630%\n",
      "   keyDownTotalMean: 1.729562%\n",
      "   pressedSum: 1.613738%\n",
      "   keyUpTotalMedian: 1.424723%\n",
      "   keyUpDiffMin: 1.321894%\n",
      "   keyUpTotalMean: 1.213143%\n",
      "   keyDownTotalSum: 1.190843%\n",
      "   keyDownDiffMin: 1.009922%\n",
      "   pressedMin: 0.966309%\n",
      "   keyUpTotalSum: 0.913857%\n",
      "   keyUpDiffMean: 0.736325%\n",
      "   keyDownDiffMean: 0.589516%\n",
      "   intervalMean: 0.451803%\n",
      "   intervalMax: 0.323258%\n",
      "   keyUpDiffMax: 0.301648%\n",
      "   intervalSum: 0.264225%\n",
      "   keyDownDiffMax: 0.224699%\n",
      "   keyUpDiffSum: 0.151193%\n",
      "   keyDownDiffSum: 0.148145%\n",
      "   keyUpTotalDeviation: 0.147914%\n",
      "   keyUpTotalVariance: 0.132089%\n",
      "   keyDownTotalVariance: 0.087108%\n",
      "   keyDownTotalDeviation: 0.075438%\n"
     ]
    }
   ],
   "source": [
    "importances = classifier.feature_importances_\n",
    "indices = np.argsort(importances)[::-1]\n",
    "print(\"Feature ranking:\")\n",
    "for f in range(len(importances)):\n",
    "    print(\"   %5s: %f%%\" % (features[indices[f]], importances[indices[f]]*100))"
   ]
  }
 ],
 "metadata": {
  "kernelspec": {
   "display_name": "Python 3",
   "language": "python",
   "name": "python3"
  },
  "language_info": {
   "codemirror_mode": {
    "name": "ipython",
    "version": 3
   },
   "file_extension": ".py",
   "mimetype": "text/x-python",
   "name": "python",
   "nbconvert_exporter": "python",
   "pygments_lexer": "ipython3",
   "version": "3.5.2"
  }
 },
 "nbformat": 4,
 "nbformat_minor": 0
}
