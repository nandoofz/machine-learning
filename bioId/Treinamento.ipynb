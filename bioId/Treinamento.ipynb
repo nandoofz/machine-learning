{
 "cells": [
  {
   "cell_type": "markdown",
   "metadata": {},
   "source": [
    "Este notebook tem a implementação completa para pegar a base de dados, processar, fazer um treinamento e gerar o resultado."
   ]
  },
  {
   "cell_type": "markdown",
   "metadata": {},
   "source": [
    "# Carregando data frame"
   ]
  },
  {
   "cell_type": "code",
   "execution_count": 2,
   "metadata": {
    "collapsed": true
   },
   "outputs": [],
   "source": [
    "import pandas as pd\n",
    "import numpy as np\n",
    "\n",
    "df_train = pd.read_csv('input/train.csv')\n",
    "df_test = pd.read_csv(\"input/test.csv\")"
   ]
  },
  {
   "cell_type": "markdown",
   "metadata": {},
   "source": [
    "# Tratando NaNs"
   ]
  },
  {
   "cell_type": "code",
   "execution_count": 3,
   "metadata": {
    "collapsed": false
   },
   "outputs": [],
   "source": [
    "df_train.fillna(-9999, inplace=True)\n",
    "df_test.fillna(-9999, inplace=True)"
   ]
  },
  {
   "cell_type": "markdown",
   "metadata": {},
   "source": [
    "# Tratando categóricos: LabelEncoder"
   ]
  },
  {
   "cell_type": "code",
   "execution_count": 4,
   "metadata": {
    "collapsed": false
   },
   "outputs": [
    {
     "data": {
      "text/plain": [
       "['v3',\n",
       " 'v22',\n",
       " 'v24',\n",
       " 'v30',\n",
       " 'v31',\n",
       " 'v47',\n",
       " 'v52',\n",
       " 'v56',\n",
       " 'v66',\n",
       " 'v71',\n",
       " 'v74',\n",
       " 'v75',\n",
       " 'v79',\n",
       " 'v91',\n",
       " 'v107',\n",
       " 'v110',\n",
       " 'v112',\n",
       " 'v113',\n",
       " 'v125']"
      ]
     },
     "execution_count": 4,
     "metadata": {},
     "output_type": "execute_result"
    }
   ],
   "source": [
    "from sklearn.preprocessing import LabelEncoder\n",
    "encoded_columns = []\n",
    "for column in df_test.columns:\n",
    "    if df_test[column].dtype == np.object:\n",
    "        train_values = list(df_train[column].values)\n",
    "        test_values = list(df_test[column].values)\n",
    "        encoder = LabelEncoder()\n",
    "        encoder.fit(np.unique(train_values + test_values))\n",
    "        df_train[column] = encoder.transform(train_values)\n",
    "        df_test[column] = encoder.transform(test_values)\n",
    "        encoded_columns.append(column)\n",
    "encoded_columns"
   ]
  },
  {
   "cell_type": "markdown",
   "metadata": {},
   "source": [
    "# Removendo dados inúteis"
   ]
  },
  {
   "cell_type": "code",
   "execution_count": 5,
   "metadata": {
    "collapsed": false
   },
   "outputs": [],
   "source": [
    "# O 'ID' foi definido como inutil devido a analise feita no notebook de Analises\n",
    "df_train.drop(['ID'], axis=1, inplace=True)\n",
    "df_test.drop(['ID'], axis=1, inplace=True)"
   ]
  },
  {
   "cell_type": "markdown",
   "metadata": {},
   "source": [
    "# Inicializado variáveis"
   ]
  },
  {
   "cell_type": "code",
   "execution_count": 6,
   "metadata": {
    "collapsed": false
   },
   "outputs": [
    {
     "data": {
      "text/plain": [
       "Index(['v1', 'v10', 'v100', 'v101', 'v102', 'v103', 'v104', 'v105', 'v106',\n",
       "       'v107',\n",
       "       ...\n",
       "       'v90', 'v91', 'v92', 'v93', 'v94', 'v95', 'v96', 'v97', 'v98', 'v99'],\n",
       "      dtype='object', length=131)"
      ]
     },
     "execution_count": 6,
     "metadata": {},
     "output_type": "execute_result"
    }
   ],
   "source": [
    "# O target é a saida e não uma feature\n",
    "features = df_train.columns.difference(['target'])\n",
    "\n",
    "X = df_train[features].values\n",
    "y = df_train['target'].values\n",
    "\n",
    "features"
   ]
  },
  {
   "cell_type": "markdown",
   "metadata": {},
   "source": [
    "# PCA"
   ]
  },
  {
   "cell_type": "code",
   "execution_count": 33,
   "metadata": {
    "collapsed": false
   },
   "outputs": [
    {
     "data": {
      "text/plain": [
       "[<matplotlib.lines.Line2D at 0x1c9888c80b8>]"
      ]
     },
     "execution_count": 33,
     "metadata": {},
     "output_type": "execute_result"
    },
    {
     "data": {
      "image/png": "[encoded data removed]",
      "text/plain": [
       "<matplotlib.figure.Figure at 0x1c987acef60>"
      ]
     },
     "metadata": {},
     "output_type": "display_data"
    }
   ],
   "source": [
    "%matplotlib inline\n",
    "import matplotlib.pyplot as plt\n",
    "from sklearn import decomposition\n",
    "\n",
    "# Roda o PCA\n",
    "pca = decomposition.PCA(n_components=2)\n",
    "data = pca.fit_transform(df_train)\n",
    "\n",
    "# Plota o resultado do target 0\n",
    "data0 = data[df_train[df_train['target'] == 0].index.values]\n",
    "plt.plot(data0[:,0], data0[:,1], 'o', color='r', alpha=0.3)"
   ]
  },
  {
   "cell_type": "code",
   "execution_count": 56,
   "metadata": {
    "collapsed": false
   },
   "outputs": [
    {
     "data": {
      "text/plain": [
       "[<matplotlib.lines.Line2D at 0x1c9972234e0>]"
      ]
     },
     "execution_count": 56,
     "metadata": {},
     "output_type": "execute_result"
    },
    {
     "data": {
      "image/png": "[encoded data removed]",
      "text/plain": [
       "<matplotlib.figure.Figure at 0x1c9971d7748>"
      ]
     },
     "metadata": {},
     "output_type": "display_data"
    }
   ],
   "source": [
    "# Plota o resultado do target 1\n",
    "data1 = data[df_train[df_train['target'] == 1].index.values]\n",
    "plt.plot(data1[:,0], data1[:,1], 'o', color='b', alpha=0.3)"
   ]
  },
  {
   "cell_type": "markdown",
   "metadata": {},
   "source": [
    "# Random Forest"
   ]
  },
  {
   "cell_type": "code",
   "execution_count": 7,
   "metadata": {
    "collapsed": false
   },
   "outputs": [
    {
     "data": {
      "text/plain": [
       "0.46458167255438498"
      ]
     },
     "execution_count": 7,
     "metadata": {},
     "output_type": "execute_result"
    }
   ],
   "source": [
    "from sklearn.ensemble import RandomForestClassifier\n",
    "from sklearn.metrics import log_loss\n",
    "\n",
    "classifier = RandomForestClassifier(random_state=1986, n_estimators=10, max_depth=10)\n",
    "classifier.fit(X, y)\n",
    "\n",
    "y_predicted = classifier.predict_proba(X)[:, 1]\n",
    "\n",
    "log_loss(y, y_predicted)"
   ]
  },
  {
   "cell_type": "markdown",
   "metadata": {},
   "source": [
    "# Train vs Test"
   ]
  },
  {
   "cell_type": "code",
   "execution_count": 37,
   "metadata": {
    "collapsed": false
   },
   "outputs": [
    {
     "data": {
      "text/plain": [
       "0.48989041890930712"
      ]
     },
     "execution_count": 37,
     "metadata": {},
     "output_type": "execute_result"
    }
   ],
   "source": [
    "from sklearn.cross_validation import train_test_split\n",
    "\n",
    "X_train, X_test, y_train, y_test = train_test_split(X, y, test_size=0.33, random_state=42)\n",
    "\n",
    "classifier = RandomForestClassifier(random_state=1986, n_estimators=10, max_depth=10)\n",
    "classifier.fit(X_train, y_train)\n",
    "\n",
    "y_predicted = classifier.predict_proba(X_test)[:, 1]\n",
    "\n",
    "log_loss(y_test, y_predicted)"
   ]
  },
  {
   "cell_type": "markdown",
   "metadata": {},
   "source": [
    "# Cross Validation"
   ]
  },
  {
   "cell_type": "code",
   "execution_count": 59,
   "metadata": {
    "collapsed": false
   },
   "outputs": [
    {
     "data": {
      "text/plain": [
       "(array([-0.11214115, -0.11084534, -0.16120487]), -0.12806378656245981)"
      ]
     },
     "execution_count": 59,
     "metadata": {},
     "output_type": "execute_result"
    }
   ],
   "source": [
    "from sklearn.cross_validation import cross_val_score\n",
    "\n",
    "classifier = RandomForestClassifier(random_state=1986, n_estimators=10, max_depth=10)\n",
    "scores = cross_val_score(classifier, X_full, y, scoring='log_loss')\n",
    "# O resultado é um array de scores, um para cada fold. A media é para termos um score geral.\n",
    "scores, np.mean(scores)"
   ]
  },
  {
   "cell_type": "markdown",
   "metadata": {},
   "source": [
    "# Buscando os melhores parâmetros: Grid Search"
   ]
  },
  {
   "cell_type": "code",
   "execution_count": 8,
   "metadata": {
    "collapsed": false
   },
   "outputs": [
    {
     "data": {
      "text/plain": [
       "({'bootstrap': False,\n",
       "  'criterion': 'gini',\n",
       "  'max_depth': 10,\n",
       "  'n_estimators': 10},\n",
       " -0.48836192571133402)"
      ]
     },
     "execution_count": 8,
     "metadata": {},
     "output_type": "execute_result"
    }
   ],
   "source": [
    "from sklearn.grid_search import GridSearchCV\n",
    "\n",
    "param_grid = {\n",
    "            \"criterion\": ['entropy', 'gini'],\n",
    "            \"n_estimators\": [10],\n",
    "            \"bootstrap\": [False, True],\n",
    "            \"max_depth\": [10],\n",
    "            #\"max_features\": ['auto', 0.08, 0.2, 0.3],\n",
    "            #\"min_samples_split\": [2, 5, 10],\n",
    "            #\"min_samples_leaf\": [1, 3, 5]\n",
    "}\n",
    "\n",
    "gs_classifier = GridSearchCV(classifier, param_grid, scoring=\"log_loss\")\n",
    "gs_classifier.fit(X, y)\n",
    "\n",
    "# Apos o fit o objeto gs_classifier tera as informacoes do busca de parametros\n",
    "classifier = gs_classifier.best_estimator_ \n",
    "\n",
    "gs_classifier.best_params_, gs_classifier.best_score_"
   ]
  },
  {
   "cell_type": "markdown",
   "metadata": {},
   "source": [
    "# Feature Importance"
   ]
  },
  {
   "cell_type": "code",
   "execution_count": 65,
   "metadata": {
    "collapsed": false
   },
   "outputs": [
    {
     "name": "stdout",
     "output_type": "stream",
     "text": [
      "Feature ranking:\n",
      "     v50: 21.608402%\n",
      "     v66: 7.017050%\n",
      "     v12: 4.844809%\n",
      "    v129: 4.758532%\n",
      "     v79: 4.523039%\n",
      "    v110: 4.022079%\n",
      "     v10: 3.631632%\n",
      "     v56: 3.346472%\n",
      "     v31: 2.835780%\n",
      "    v114: 2.733718%\n",
      "    v113: 2.644339%\n",
      "     v62: 2.368447%\n",
      "     v47: 1.913698%\n",
      "     v40: 1.860818%\n",
      "     v34: 1.667600%\n",
      "     v14: 1.520532%\n",
      "     v21: 1.413525%\n",
      "     v72: 0.889813%\n",
      "     v24: 0.797208%\n",
      "     v19: 0.433445%\n",
      "     v68: 0.405745%\n",
      "     v45: 0.375544%\n",
      "     v22: 0.375040%\n",
      "      v6: 0.365672%\n",
      "     v80: 0.355123%\n",
      "     v69: 0.339092%\n",
      "    v100: 0.334040%\n",
      "    v119: 0.328820%\n",
      "     v57: 0.324710%\n",
      "    v125: 0.324615%\n",
      "     v87: 0.321756%\n",
      "    v109: 0.317613%\n",
      "     v97: 0.311731%\n",
      "     v48: 0.301796%\n",
      "    v123: 0.301007%\n",
      "     v61: 0.295829%\n",
      "      v2: 0.293707%\n",
      "     v78: 0.288974%\n",
      "    v115: 0.287923%\n",
      "      v8: 0.282972%\n",
      "     v29: 0.282693%\n",
      "    v117: 0.281120%\n",
      "     v58: 0.279155%\n",
      "    v120: 0.274126%\n",
      "     v86: 0.273203%\n",
      "     v44: 0.272759%\n",
      "     v51: 0.269606%\n",
      "     v13: 0.267006%\n",
      "    v124: 0.266641%\n",
      "     v82: 0.265541%\n",
      "     v43: 0.263047%\n",
      "    v131: 0.261788%\n",
      "     v16: 0.259042%\n",
      "     v30: 0.258171%\n",
      "      v4: 0.255896%\n",
      "     v41: 0.254989%\n",
      "      v7: 0.250750%\n",
      "     v70: 0.249630%\n",
      "    v122: 0.249382%\n",
      "    v111: 0.248009%\n",
      "    v112: 0.246260%\n",
      "     v76: 0.245223%\n",
      "    v103: 0.243756%\n",
      "     v33: 0.239988%\n",
      "     v90: 0.238771%\n",
      "     v92: 0.236958%\n",
      "     v26: 0.236209%\n",
      "     v38: 0.233186%\n",
      "    v128: 0.232797%\n",
      "    v108: 0.232148%\n",
      "     v17: 0.231561%\n",
      "     v42: 0.230326%\n",
      "     v37: 0.230248%\n",
      "    v130: 0.230058%\n",
      "    v104: 0.229292%\n",
      "     v36: 0.229269%\n",
      "     v25: 0.228869%\n",
      "     v65: 0.226689%\n",
      "    v116: 0.225588%\n",
      "      v5: 0.224897%\n",
      "    v105: 0.218842%\n",
      "     v11: 0.218089%\n",
      "     v28: 0.217306%\n",
      "    v121: 0.216553%\n",
      "    v101: 0.211963%\n",
      "      v9: 0.208522%\n",
      "     v32: 0.205503%\n",
      "     v67: 0.203555%\n",
      "     v54: 0.201262%\n",
      "    v118: 0.200154%\n",
      "     v15: 0.199007%\n",
      "     v55: 0.198464%\n",
      "      v1: 0.197711%\n",
      "     v73: 0.196264%\n",
      "    v126: 0.193487%\n",
      "    v106: 0.193364%\n",
      "     v53: 0.192880%\n",
      "     v52: 0.191778%\n",
      "     v60: 0.190439%\n",
      "     v95: 0.190252%\n",
      "    v127: 0.189760%\n",
      "     v96: 0.189384%\n",
      "     v83: 0.188841%\n",
      "     v18: 0.188836%\n",
      "     v88: 0.185705%\n",
      "     v81: 0.185162%\n",
      "     v99: 0.183539%\n",
      "     v20: 0.182445%\n",
      "     v77: 0.180504%\n",
      "     v46: 0.176284%\n",
      "     v27: 0.171885%\n",
      "     v39: 0.170802%\n",
      "     v98: 0.164556%\n",
      "     v84: 0.163751%\n",
      "     v63: 0.160233%\n",
      "     v94: 0.154702%\n",
      "     v23: 0.150597%\n",
      "     v49: 0.146539%\n",
      "    v102: 0.144606%\n",
      "     v93: 0.143821%\n",
      "     v64: 0.141984%\n",
      "     v85: 0.141660%\n",
      "     v89: 0.132637%\n",
      "     v59: 0.131524%\n",
      "      v3: 0.120828%\n",
      "     v35: 0.120545%\n",
      "     v74: 0.114321%\n",
      "    v107: 0.105197%\n",
      "     v71: 0.089125%\n",
      "     v75: 0.061578%\n",
      "     v91: 0.055962%\n"
     ]
    }
   ],
   "source": [
    "importances = classifier.feature_importances_\n",
    "indices = np.argsort(importances)[::-1]\n",
    "print(\"Feature ranking:\")\n",
    "for f in range(len(importances)):\n",
    "    print(\"   %5s: %f%%\" % (features[indices[f]], importances[indices[f]]*100))"
   ]
  },
  {
   "cell_type": "markdown",
   "metadata": {},
   "source": [
    "# Gerando resultados"
   ]
  },
  {
   "cell_type": "code",
   "execution_count": 69,
   "metadata": {
    "collapsed": false
   },
   "outputs": [],
   "source": [
    "y_pred = classifier.predict_proba(df_test[features])[:,1]\n",
    "submission = pd.read_csv('input/sample_submission.csv')\n",
    "submission['PredictedProb'] = y_pred\n",
    "submission.to_csv('result.csv', index=False)"
   ]
  },
  {
   "cell_type": "code",
   "execution_count": null,
   "metadata": {
    "collapsed": true
   },
   "outputs": [],
   "source": []
  }
 ],
 "metadata": {
  "kernelspec": {
   "display_name": "Python 3",
   "language": "python",
   "name": "python3"
  },
  "language_info": {
   "codemirror_mode": {
    "name": "ipython",
    "version": 3
   },
   "file_extension": ".py",
   "mimetype": "text/x-python",
   "name": "python",
   "nbconvert_exporter": "python",
   "pygments_lexer": "ipython3",
   "version": "3.5.1"
  }
 },
 "nbformat": 4,
 "nbformat_minor": 0
}
