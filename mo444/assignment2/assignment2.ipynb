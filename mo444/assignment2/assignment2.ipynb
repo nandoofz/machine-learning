{
 "cells": [
  {
   "cell_type": "code",
   "execution_count": 1,
   "metadata": {},
   "outputs": [
    {
     "name": "stderr",
     "output_type": "stream",
     "text": [
      "/usr/local/lib/python3.6/dist-packages/sklearn/cross_validation.py:41: DeprecationWarning: This module was deprecated in version 0.18 in favor of the model_selection module into which all the refactored classes and functions are moved. Also note that the interface of the new CV iterators are different from that of this module. This module will be removed in 0.20.\n",
      "  \"This module will be removed in 0.20.\", DeprecationWarning)\n"
     ]
    }
   ],
   "source": [
    "import pandas as pd\n",
    "import matplotlib.pyplot as plt\n",
    "import numpy as np\n",
    "from sklearn.ensemble import RandomForestClassifier\n",
    "from sklearn.linear_model import LogisticRegression\n",
    "from sklearn.model_selection import cross_val_score\n",
    "from sklearn.cross_validation import train_test_split\n",
    "from sklearn.metrics import r2_score\n",
    "from sklearn.metrics import accuracy_score\n",
    "import time"
   ]
  },
  {
   "cell_type": "code",
   "execution_count": 2,
   "metadata": {},
   "outputs": [],
   "source": [
    "df_train = pd.read_csv('train.csv')\n",
    "\n",
    "unique_cat = set(df_train['model'].unique())\n",
    "df_train['model_'] = pd.Categorical(df_train['model'], categories=unique_cat).codes\n",
    "\n",
    "y_train = df_train['model_']\n",
    "X_train = df_train[df_train.columns.difference(['model', 'model_'])]\n",
    "\n",
    "del df_train\n",
    "\n",
    "X_train, X_test, y_train, y_test = train_test_split(X_train, y_train , test_size= 0.20, random_state=0)"
   ]
  },
  {
   "cell_type": "code",
   "execution_count": 3,
   "metadata": {},
   "outputs": [
    {
     "data": {
      "text/plain": [
       "{'GalaxyN3',\n",
       " 'GalaxyS4',\n",
       " 'HTC-1-M7',\n",
       " 'LG5x',\n",
       " 'MotoMax',\n",
       " 'MotoNex6',\n",
       " 'MotoX',\n",
       " 'Nex7',\n",
       " 'iP4s',\n",
       " 'iP6'}"
      ]
     },
     "execution_count": 3,
     "metadata": {},
     "output_type": "execute_result"
    }
   ],
   "source": [
    "unique_cat"
   ]
  },
  {
   "cell_type": "code",
   "execution_count": 4,
   "metadata": {},
   "outputs": [
    {
     "data": {
      "text/plain": [
       "(59114, 1062)"
      ]
     },
     "execution_count": 4,
     "metadata": {},
     "output_type": "execute_result"
    }
   ],
   "source": [
    "X_train.shape"
   ]
  },
  {
   "cell_type": "code",
   "execution_count": 5,
   "metadata": {},
   "outputs": [
    {
     "name": "stderr",
     "output_type": "stream",
     "text": [
      "/usr/local/lib/python3.6/dist-packages/sklearn/linear_model/sag.py:326: ConvergenceWarning: The max_iter was reached which means the coef_ did not converge\n",
      "  \"the coef_ did not converge\", ConvergenceWarning)\n"
     ]
    },
    {
     "name": "stdout",
     "output_type": "stream",
     "text": [
      "0.20860680695581568\n",
      "Time: 1129.62s\n"
     ]
    }
   ],
   "source": [
    "start_time = time.time()\n",
    "\n",
    "clf = LogisticRegression(random_state=0, solver='sag', max_iter=500, multi_class='ovr', n_jobs=-1)\n",
    "#scores = cross_val_score(clf, X_train.values, y_train.values, scoring='accuracy', cv=5)\n",
    "#print(scores.mean())\n",
    "\n",
    "clf.fit(X_train.values, y_train.values)\n",
    "y_pred = clf.predict(X_test.values)\n",
    "score = accuracy_score(y_test, y_pred)\n",
    "\n",
    "print(score)\n",
    "print(\"Time: {:.2f}s\".format(time.time() - start_time))"
   ]
  },
  {
   "cell_type": "code",
   "execution_count": 6,
   "metadata": {},
   "outputs": [
    {
     "name": "stdout",
     "output_type": "stream",
     "text": [
      "0.3094697585043623\n",
      "Time: 74.94s\n"
     ]
    }
   ],
   "source": [
    "start_time = time.time()\n",
    "classifier_rf = RandomForestClassifier(random_state=0, criterion='gini', max_depth=10, n_estimators=50, n_jobs=-1)\n",
    "scores_rf = cross_val_score(classifier_rf, X_train, y_train, scoring='accuracy', cv=5)\n",
    "\n",
    "print(scores_rf.mean())\n",
    "print(\"Time: {:.2f}s\".format(time.time() - start_time))"
   ]
  }
 ],
 "metadata": {
  "kernelspec": {
   "display_name": "Python 3",
   "language": "python",
   "name": "python3"
  },
  "language_info": {
   "codemirror_mode": {
    "name": "ipython",
    "version": 3
   },
   "file_extension": ".py",
   "mimetype": "text/x-python",
   "name": "python",
   "nbconvert_exporter": "python",
   "pygments_lexer": "ipython3",
   "version": "3.6.3"
  }
 },
 "nbformat": 4,
 "nbformat_minor": 2
}
